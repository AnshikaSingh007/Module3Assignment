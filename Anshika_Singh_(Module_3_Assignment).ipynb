{
  "nbformat": 4,
  "nbformat_minor": 0,
  "metadata": {
    "colab": {
      "provenance": []
    },
    "kernelspec": {
      "name": "python3",
      "display_name": "Python 3"
    },
    "language_info": {
      "name": "python"
    }
  },
  "cells": [
    {
      "cell_type": "markdown",
      "source": [
        "## 1. What is Python, and why is it popular?\n",
        "Python is a high-level programming language known for its simple syntax and readability. It is popular because it is easy to learn, has a large community, and supports many libraries for different applications like web development, data science, and automation.\n"
      ],
      "metadata": {
        "id": "8lyKByQePG8e"
      }
    },
    {
      "cell_type": "markdown",
      "source": [
        "## 2. What is an interpreter in Python?\n",
        "An interpreter is a program that runs Python code line by line instead of compiling it all at once. This makes debugging easier and helps with quick testing."
      ],
      "metadata": {
        "id": "4Y4yBMvBQJcr"
      }
    },
    {
      "cell_type": "markdown",
      "source": [
        "## 3. What are pre-defined keywords in Python?\n",
        "Pre-defined keywords are special words that have a fixed meaning in Python, like `if`, `else`, `while`, `for`, and `def`. They cannot be used as variable names."
      ],
      "metadata": {
        "id": "0I-wy53vQMtz"
      }
    },
    {
      "cell_type": "markdown",
      "source": [
        "## 4. Can keywords be used as variable names?\n",
        "No, keywords cannot be used as variable names because they are reserved for specific functions in Python."
      ],
      "metadata": {
        "id": "agXl1g6lQNcV"
      }
    },
    {
      "cell_type": "markdown",
      "source": [
        "## 5. What is mutability in Python?\n",
        "Mutability refers to whether an object can be changed after it is created. Mutable objects can be modified, while immutable objects cannot.\n"
      ],
      "metadata": {
        "id": "qqN85umDQPF_"
      }
    },
    {
      "cell_type": "markdown",
      "source": [
        "## 6. Why are lists mutable, but tuples are immutable?\n",
        "Lists are mutable, meaning their elements can be changed after creation. Tuples are immutable, meaning their elements cannot be changed once they are assigned.\n"
      ],
      "metadata": {
        "id": "4ozKWirfQZI6"
      }
    },
    {
      "cell_type": "markdown",
      "source": [
        "## 7. What is the difference between `==` and `is` operators in Python?\n",
        "- `==` checks if two values are equal.\n",
        "- `is` checks if two variables point to the same object in memory.\n"
      ],
      "metadata": {
        "id": "_gRxVJrAQbiz"
      }
    },
    {
      "cell_type": "markdown",
      "source": [
        "## 8. What are logical operators in Python?\n",
        "Logical operators are used to combine multiple conditions:\n",
        "- `and`: Returns True if both conditions are True.\n",
        "- `or`: Returns True if at least one condition is True.\n",
        "- `not`: Reverses the truth value of a condition."
      ],
      "metadata": {
        "id": "GZRpgz_aQgRb"
      }
    },
    {
      "cell_type": "markdown",
      "source": [
        "## 9. What is type casting in Python?\n",
        "Type casting is converting one data type into another, such as converting an integer to a string using `str(5)`."
      ],
      "metadata": {
        "id": "9do_qVc2Qmfn"
      }
    },
    {
      "cell_type": "markdown",
      "source": [
        "## 10. What is the difference between implicit and explicit type casting?\n",
        "- Implicit casting: Python automatically converts data types (e.g., `5 + 2.0` results in `7.0`).\n",
        "- Explicit casting: The user manually converts data types using functions like `int()`, `float()`, or `str()`."
      ],
      "metadata": {
        "id": "Mx9qeocWQok_"
      }
    },
    {
      "cell_type": "markdown",
      "source": [
        "## 11. What is the purpose of conditional statements in Python?\n",
        "Conditional statements, like `if`, `elif`, and `else`, help make decisions in a program by running different code based on conditions."
      ],
      "metadata": {
        "id": "R2OhhyMHQqCn"
      }
    },
    {
      "cell_type": "markdown",
      "source": [
        "## 12. How does the `elif` statement work?\n",
        "The `elif` statement allows checking multiple conditions in an `if-else` structure. If the first `if` condition is False, `elif` checks another condition.\n"
      ],
      "metadata": {
        "id": "0hRMr7j6QtFR"
      }
    },
    {
      "cell_type": "markdown",
      "source": [
        "## 13. What is the difference between `for` and `while` loops?\n",
        "- `for` loop: Used when the number of iterations is known.\n",
        "- `while` loop: Used when the number of iterations is not known and depends on a condition."
      ],
      "metadata": {
        "id": "QECCYqiLQtvo"
      }
    },
    {
      "cell_type": "markdown",
      "source": [
        "## 14. Describe a scenario where a `while` loop is more suitable than a `for` loop.\n",
        "A `while` loop is better when we don’t know how many times the loop should run, such as asking a user for input until they enter a valid value.\n",
        "\n",
        "```python\n",
        "# Example: Keep asking for input until the user enters a positive number\n",
        "num = -1\n",
        "while num <= 0:\n",
        "    num = int(input(\"Enter a positive number: \"))\n",
        "print(\"You entered:\", num)\n"
      ],
      "metadata": {
        "id": "Iyz1cBVMQxtB"
      }
    },
    {
      "cell_type": "markdown",
      "source": [
        "# Practical Questions"
      ],
      "metadata": {
        "id": "6OWLJdjcRoZY"
      }
    },
    {
      "cell_type": "markdown",
      "source": [
        "## 1. Write a Python program to print \"Hello, World!\"\n",
        "```python\n",
        "print(\"Hello, World!\")\n",
        "```\n"
      ],
      "metadata": {
        "id": "FHxhU3pbRp8A"
      }
    },
    {
      "cell_type": "markdown",
      "source": [
        "## 2. Write a Python program that displays your name and age\n",
        "```python\n",
        "name = \"Anshika\"\n",
        "age = 20\n",
        "print(\"Name:\", name)\n",
        "print(\"Age:\", age)\n",
        "```\n"
      ],
      "metadata": {
        "id": "gMPDKURVRsPP"
      }
    },
    {
      "cell_type": "markdown",
      "source": [
        "## 3. Write code to print all the pre-defined keywords in Python using the keyword library\n",
        "```python\n",
        "import keyword\n",
        "print(keyword.kwlist)\n",
        "```"
      ],
      "metadata": {
        "id": "tF8xxI9FR2Ez"
      }
    },
    {
      "cell_type": "markdown",
      "source": [
        "## 4. Write a program that checks if a given word is a Python keyword\n",
        "```python\n",
        "import keyword\n",
        "word = input(\"Enter a word: \")\n",
        "print(\"Is keyword:\", keyword.iskeyword(word))\n",
        "```\n"
      ],
      "metadata": {
        "id": "6EDaszvfR72Z"
      }
    },
    {
      "cell_type": "markdown",
      "source": [
        "## 5. Create a list and tuple in Python, and demonstrate how attempting to change an element works differently for each\n",
        "```python\n",
        "my_list = [1, 2, 3]\n",
        "my_tuple = (1, 2, 3)\n",
        "\n",
        "my_list[0] = 10  # Works fine\n",
        "# my_tuple[0] = 10  # Raises an error\n",
        "```"
      ],
      "metadata": {
        "id": "hDkyHWlaR8xN"
      }
    },
    {
      "cell_type": "markdown",
      "source": [
        "## 6. Write a function to demonstrate the behavior of mutable and immutable arguments\n",
        "```python\n",
        "def modify(data):\n",
        "    if isinstance(data, list):\n",
        "        data.append(100)  # Mutates list\n",
        "    else:\n",
        "        data = data + 100  # Does not mutate integer\n",
        "    print(\"Inside function:\", data)\n",
        "\n",
        "x = [1, 2, 3]\n",
        "modify(x)\n",
        "print(\"Outside function:\", x)\n",
        "```"
      ],
      "metadata": {
        "id": "FeqXOLz9SBSx"
      }
    },
    {
      "cell_type": "markdown",
      "source": [
        "## 7. Write a function to demonstrate the behavior of mutable and immutable arguments\n",
        "```python\n",
        "def modify(data):\n",
        "    if isinstance(data, list):\n",
        "        data.append(100)  # Mutates list\n",
        "    else:\n",
        "        data = data + 100  # Does not mutate integer\n",
        "    print(\"Inside function:\", data)\n",
        "\n",
        "x = [1, 2, 3]\n",
        "modify(x)\n",
        "print(\"Outside function:\", x)\n",
        "```"
      ],
      "metadata": {
        "id": "Ebv3I6bzTULh"
      }
    },
    {
      "cell_type": "markdown",
      "source": [
        "## 8. Write a program to demonstrate the use of logical operators\n",
        "```python\n",
        "a, b = True, False\n",
        "print(a and b)\n",
        "print(a or b)\n",
        "print(not a)\n",
        "```"
      ],
      "metadata": {
        "id": "0WrLfop6SCfp"
      }
    },
    {
      "cell_type": "markdown",
      "source": [
        "## 9. Write a Python program to convert user input from string to integer, float, and boolean types\n",
        "```python\n",
        "value = input(\"Enter a number: \")\n",
        "print(int(value))\n",
        "print(float(value))\n",
        "print(bool(value))\n",
        "```\n"
      ],
      "metadata": {
        "id": "ZC8cskK-SGdZ"
      }
    },
    {
      "cell_type": "markdown",
      "source": [
        "## 10. Write code to demonstrate type casting with list elements\n",
        "```python\n",
        "num_list = [\"1\", \"2\", \"3\"]\n",
        "num_list = list(map(int, num_list))\n",
        "print(num_list)\n",
        "```"
      ],
      "metadata": {
        "id": "nVo0zc_qSIQ9"
      }
    },
    {
      "cell_type": "markdown",
      "source": [
        "## 11. Write a program that checks if a number is positive, negative, or zero\n",
        "```python\n",
        "num = int(input(\"Enter a number: \"))\n",
        "if num > 0:\n",
        "    print(\"Positive\")\n",
        "elif num < 0:\n",
        "    print(\"Negative\")\n",
        "else:\n",
        "    print(\"Zero\")\n",
        "```"
      ],
      "metadata": {
        "id": "wLO43aqPSRz5"
      }
    },
    {
      "cell_type": "markdown",
      "source": [
        "## 12. Write a for loop to print numbers from 1 to 100\n",
        "```python\n",
        "for i in range(1, 101):\n",
        "    print(i)\n",
        "```"
      ],
      "metadata": {
        "id": "12qTBkBySTeZ"
      }
    },
    {
      "cell_type": "markdown",
      "source": [
        "## 13. Write a Python program to find the sum of all even numbers between 1 and 500\n",
        "```python\n",
        "print(sum(range(2, 501, 2)))\n",
        "```\n"
      ],
      "metadata": {
        "id": "lYx1DAfBSWBZ"
      }
    },
    {
      "cell_type": "markdown",
      "source": [
        "\n",
        "## 14. Write a program to reverse a string using a while loop\n",
        "```python\n",
        "text = input(\"Enter a string: \")\n",
        "reversed_text = \"\"\n",
        "i = len(text) - 1\n",
        "while i >= 0:\n",
        "    reversed_text += text[i]\n",
        "    i -= 1\n",
        "print(\"Reversed:\", reversed_text)\n",
        "```"
      ],
      "metadata": {
        "id": "oLOXz7ZFSX8T"
      }
    },
    {
      "cell_type": "markdown",
      "source": [
        "## 15. Write a Python program to calculate the factorial of a number provided by the user using a while loop.\n",
        "```python\n",
        "num = int(input(\"Enter a number: \"))\n",
        "fact = 1\n",
        "while num > 0:\n",
        "    fact *= num\n",
        "    num -= 1\n",
        "print(\"Factorial:\", fact)\n",
        "```\n"
      ],
      "metadata": {
        "id": "3IRQnfyXScXB"
      }
    }
  ]
}